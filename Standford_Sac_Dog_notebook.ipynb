{
  "nbformat": 4,
  "nbformat_minor": 0,
  "metadata": {
    "colab": {
      "name": "Standford_Sac_Dog_notebook.ipynb",
      "provenance": [],
      "collapsed_sections": [],
      "include_colab_link": true
    },
    "kernelspec": {
      "name": "python3",
      "display_name": "Python 3"
    },
    "accelerator": "GPU"
  },
  "cells": [
    {
      "cell_type": "markdown",
      "metadata": {
        "id": "view-in-github",
        "colab_type": "text"
      },
      "source": [
        "<a href=\"https://colab.research.google.com/github/filmerxyz/Standford_Sac_Dog/blob/master/Standford_Sac_Dog_notebook.ipynb\" target=\"_parent\"><img src=\"https://colab.research.google.com/assets/colab-badge.svg\" alt=\"Open In Colab\"/></a>"
      ]
    },
    {
      "cell_type": "markdown",
      "metadata": {
        "id": "aOeO-jVXS8Jp",
        "colab_type": "text"
      },
      "source": [
        "# Install Split Folders"
      ]
    },
    {
      "cell_type": "code",
      "metadata": {
        "id": "adPz6VH2HrFr",
        "colab_type": "code",
        "colab": {
          "base_uri": "https://localhost:8080/",
          "height": 89
        },
        "outputId": "685162ba-609d-4963-9f9f-69e6681de597"
      },
      "source": [
        "!pip install split-folders"
      ],
      "execution_count": 1,
      "outputs": [
        {
          "output_type": "stream",
          "text": [
            "Collecting split-folders\n",
            "  Downloading https://files.pythonhosted.org/packages/20/67/29dda743e6d23ac1ea3d16704d8bbb48d65faf3f1b1eaf53153b3da56c56/split_folders-0.3.1-py3-none-any.whl\n",
            "Installing collected packages: split-folders\n",
            "Successfully installed split-folders-0.3.1\n"
          ],
          "name": "stdout"
        }
      ]
    },
    {
      "cell_type": "markdown",
      "metadata": {
        "id": "Kuvn3Rt-TQt8",
        "colab_type": "text"
      },
      "source": [
        "# Import Libraries"
      ]
    },
    {
      "cell_type": "code",
      "metadata": {
        "id": "OBD_27-cHlLw",
        "colab_type": "code",
        "colab": {}
      },
      "source": [
        "import tensorflow as tf\n",
        "from tensorflow import keras\n",
        "from tensorflow.keras import backend as K\n",
        "from tensorflow.keras import models\n",
        "from tensorflow.keras.models import Sequential, Model\n",
        "from tensorflow.keras.layers import Conv2D, MaxPooling2D, Dense, Dropout, Activation, Flatten, BatchNormalization, GlobalAveragePooling2D\n",
        "from tensorflow.keras.preprocessing import image\n",
        "from tensorflow.keras.preprocessing.image import ImageDataGenerator, load_img, img_to_array\n",
        "from tensorflow.keras.applications.imagenet_utils import preprocess_input\n",
        "from tensorflow.keras.optimizers import Adam\n",
        "from tensorflow.keras.callbacks import ModelCheckpoint, EarlyStopping, ReduceLROnPlateau\n",
        "from tensorflow.keras import regularizers\n",
        "\n",
        "from sklearn.utils import class_weight\n",
        "from sklearn.metrics import classification_report, confusion_matrix, precision_recall_fscore_support\n",
        "\n",
        "import pandas as pd\n",
        "import numpy as np\n",
        "import matplotlib.pyplot as plt\n",
        "import itertools\n",
        "\n",
        "import shutil\n",
        "import os\n",
        "from os.path import join\n",
        "\n",
        "import split_folders\n",
        "\n",
        "from standoford_sac_dog_utils import *"
      ],
      "execution_count": 2,
      "outputs": []
    },
    {
      "cell_type": "markdown",
      "metadata": {
        "id": "RfqL0GZzTjjT",
        "colab_type": "text"
      },
      "source": [
        "# Hyperparameters"
      ]
    },
    {
      "cell_type": "code",
      "metadata": {
        "id": "E6tWs3wgL3u3",
        "colab_type": "code",
        "colab": {}
      },
      "source": [
        "IMG_WIDTH = 224\n",
        "IMG_HEIGHT = 224\n",
        "\n",
        "BATCH_SIZE = 32\n",
        "\n",
        "LR = 3e-5\n",
        "\n",
        "EPOCHS = 100"
      ],
      "execution_count": 3,
      "outputs": []
    },
    {
      "cell_type": "markdown",
      "metadata": {
        "id": "fG9e20t_TS1u",
        "colab_type": "text"
      },
      "source": [
        "# Data"
      ]
    },
    {
      "cell_type": "code",
      "metadata": {
        "id": "spDoWnPBIpTr",
        "colab_type": "code",
        "colab": {
          "base_uri": "https://localhost:8080/",
          "height": 143
        },
        "outputId": "a4e84ce1-e9ef-458d-e388-5fdde7e56eef"
      },
      "source": [
        "!git clone https://github.com/EvilPickle-PCSHSPT/Standford_Sac_Dog_dataset"
      ],
      "execution_count": 4,
      "outputs": [
        {
          "output_type": "stream",
          "text": [
            "Cloning into 'Standford_Sac_Dog_dataset'...\n",
            "remote: Enumerating objects: 16, done.\u001b[K\n",
            "remote: Counting objects:   6% (1/16)\u001b[K\rremote: Counting objects:  12% (2/16)\u001b[K\rremote: Counting objects:  18% (3/16)\u001b[K\rremote: Counting objects:  25% (4/16)\u001b[K\rremote: Counting objects:  31% (5/16)\u001b[K\rremote: Counting objects:  37% (6/16)\u001b[K\rremote: Counting objects:  43% (7/16)\u001b[K\rremote: Counting objects:  50% (8/16)\u001b[K\rremote: Counting objects:  56% (9/16)\u001b[K\rremote: Counting objects:  62% (10/16)\u001b[K\rremote: Counting objects:  68% (11/16)\u001b[K\rremote: Counting objects:  75% (12/16)\u001b[K\rremote: Counting objects:  81% (13/16)\u001b[K\rremote: Counting objects:  87% (14/16)\u001b[K\rremote: Counting objects:  93% (15/16)\u001b[K\rremote: Counting objects: 100% (16/16)\u001b[K\rremote: Counting objects: 100% (16/16), done.\u001b[K\n",
            "remote: Compressing objects: 100% (13/13), done.\u001b[K\n",
            "remote: Total 1828 (delta 4), reused 14 (delta 2), pack-reused 1812\u001b[K\n",
            "Receiving objects: 100% (1828/1828), 70.53 MiB | 43.48 MiB/s, done.\n",
            "Resolving deltas: 100% (4/4), done.\n"
          ],
          "name": "stdout"
        }
      ]
    },
    {
      "cell_type": "code",
      "metadata": {
        "id": "gK3AJYM9LBmJ",
        "colab_type": "code",
        "colab": {
          "base_uri": "https://localhost:8080/",
          "height": 35
        },
        "outputId": "62a56a97-9a9a-4686-d20d-7ec217cba9e2"
      },
      "source": [
        "mkdir_dir('/content/data_folder')"
      ],
      "execution_count": 5,
      "outputs": [
        {
          "output_type": "stream",
          "text": [
            "Directory  /content/data_folder  Created \n"
          ],
          "name": "stdout"
        }
      ]
    },
    {
      "cell_type": "markdown",
      "metadata": {
        "id": "FVgPdYS-TgOj",
        "colab_type": "text"
      },
      "source": [
        "## Split"
      ]
    },
    {
      "cell_type": "code",
      "metadata": {
        "id": "Kmxkx8NbLDQq",
        "colab_type": "code",
        "colab": {
          "base_uri": "https://localhost:8080/",
          "height": 35
        },
        "outputId": "510abe1d-1f44-4e78-e90c-99de63769494"
      },
      "source": [
        "split_folders.ratio('/content/Standford_Sac_Dog_dataset/images', \n",
        "                    output='/content/data_folder', \n",
        "                    seed=1337, \n",
        "                    ratio=(0.60, 0.20, 0.20))"
      ],
      "execution_count": 6,
      "outputs": [
        {
          "output_type": "stream",
          "text": [
            "Copying files: 1797 files [00:00, 5264.49 files/s]\n"
          ],
          "name": "stderr"
        }
      ]
    },
    {
      "cell_type": "code",
      "metadata": {
        "id": "dZRy9zxaLo_l",
        "colab_type": "code",
        "colab": {}
      },
      "source": [
        "train_path = '/content/data_folder/train'\n",
        "val_path = '/content/data_folder/val'\n",
        "test_path = '/content/data_folder/test'"
      ],
      "execution_count": 7,
      "outputs": []
    },
    {
      "cell_type": "code",
      "metadata": {
        "id": "AsoDb3Z_Ly4U",
        "colab_type": "code",
        "colab": {}
      },
      "source": [
        "train_gen = ImageDataGenerator(rescale=1. / 255,\n",
        "                               rotation_range=0,\n",
        "                               width_shift_range=0.3,\n",
        "                               height_shift_range=0.3,\n",
        "                               horizontal_flip=True,\n",
        "                               vertical_flip=True,)\n",
        "\n",
        "val_gen = ImageDataGenerator(rescale=1. / 255)\n",
        "\n",
        "test_gen = ImageDataGenerator(rescale=1. / 255)"
      ],
      "execution_count": 8,
      "outputs": []
    },
    {
      "cell_type": "code",
      "metadata": {
        "id": "CeKuHrNyL5FD",
        "colab_type": "code",
        "colab": {
          "base_uri": "https://localhost:8080/",
          "height": 71
        },
        "outputId": "9f8401a7-32cc-407f-82f3-565eec999305"
      },
      "source": [
        "train_datagen = train_gen.flow_from_directory(batch_size=BATCH_SIZE,\n",
        "                                          directory=train_path,\n",
        "                                          shuffle=True,\n",
        "                                          target_size=(IMG_WIDTH, IMG_HEIGHT), #(224,224)\n",
        "                                          class_mode='categorical')\n",
        "\n",
        "val_datagen = val_gen.flow_from_directory(batch_size=BATCH_SIZE,\n",
        "                                          directory=val_path,\n",
        "                                          shuffle=True,\n",
        "                                          target_size=(IMG_WIDTH, IMG_HEIGHT), #(224,224)\n",
        "                                          class_mode='categorical')\n",
        "\n",
        "test_datagen = test_gen.flow_from_directory(batch_size=1,\n",
        "                                          directory=test_path,\n",
        "                                          shuffle=False,\n",
        "                                          target_size=(IMG_WIDTH, IMG_HEIGHT), #(224,224)\n",
        "                                          class_mode=None)"
      ],
      "execution_count": 9,
      "outputs": [
        {
          "output_type": "stream",
          "text": [
            "Found 1076 images belonging to 10 classes.\n",
            "Found 355 images belonging to 10 classes.\n",
            "Found 366 images belonging to 10 classes.\n"
          ],
          "name": "stdout"
        }
      ]
    },
    {
      "cell_type": "markdown",
      "metadata": {
        "id": "5Jm0YOzcTVHk",
        "colab_type": "text"
      },
      "source": [
        "# Model"
      ]
    },
    {
      "cell_type": "code",
      "metadata": {
        "id": "_mDKOjo8L70Q",
        "colab_type": "code",
        "colab": {}
      },
      "source": [
        "def build_model():\n",
        "    base_model = tf.keras.applications.nasnet.NASNetMobile(input_shape=(IMG_WIDTH, IMG_HEIGHT, 3), include_top=False, weights='imagenet')\n",
        "    base_model.trainable = True\n",
        "\n",
        "    average_pooling_layer = tf.keras.layers.GlobalAveragePooling2D()(base_model.output)\n",
        "    prediction_layer = tf.keras.layers.Dense(units=10, activation='softmax', name='prediction')(average_pooling_layer)\n",
        "    model = tf.keras.models.Model(inputs=base_model.input, outputs=prediction_layer)\n",
        "    \n",
        "    return model"
      ],
      "execution_count": 11,
      "outputs": []
    },
    {
      "cell_type": "code",
      "metadata": {
        "id": "d5EZjG2UMDsA",
        "colab_type": "code",
        "colab": {
          "base_uri": "https://localhost:8080/",
          "height": 53
        },
        "outputId": "1dabbf07-3940-46cb-cfa7-cab11a62ea00"
      },
      "source": [
        "model = build_model()"
      ],
      "execution_count": 12,
      "outputs": [
        {
          "output_type": "stream",
          "text": [
            "Downloading data from https://storage.googleapis.com/tensorflow/keras-applications/nasnet/NASNet-mobile-no-top.h5\n",
            "19996672/19993432 [==============================] - 0s 0us/step\n"
          ],
          "name": "stdout"
        }
      ]
    },
    {
      "cell_type": "code",
      "metadata": {
        "id": "KnfBGnABMqUL",
        "colab_type": "code",
        "colab": {}
      },
      "source": [
        "model.compile(optimizer=Adam(LR), loss='categorical_crossentropy', metrics=['accuracy'])"
      ],
      "execution_count": 13,
      "outputs": []
    },
    {
      "cell_type": "code",
      "metadata": {
        "id": "26ULnL-3MIuy",
        "colab_type": "code",
        "colab": {}
      },
      "source": [
        "early_stop = EarlyStopping(monitor='val_loss', patience=10, verbose=0, mode='min')\n",
        "model_checkpoint = ModelCheckpoint(filepath='/content/standford_sac_dog_model.h5', save_best_only=True, monitor='val_loss', mode='min')"
      ],
      "execution_count": 14,
      "outputs": []
    },
    {
      "cell_type": "code",
      "metadata": {
        "id": "a5TWOZpEMFdq",
        "colab_type": "code",
        "colab": {
          "base_uri": "https://localhost:8080/",
          "height": 1000
        },
        "outputId": "cc97fe6c-3d48-4428-e8cc-4f49af7487f1"
      },
      "source": [
        "history = model.fit(train_datagen,\n",
        "                    validation_data=val_datagen,\n",
        "                    epochs=EPOCHS,\n",
        "                    callbacks=[early_stop, model_checkpoint],\n",
        "                    verbose=1)"
      ],
      "execution_count": 15,
      "outputs": [
        {
          "output_type": "stream",
          "text": [
            "Epoch 1/100\n",
            "34/34 [==============================] - 24s 703ms/step - loss: 2.2280 - accuracy: 0.2258 - val_loss: 1.6297 - val_accuracy: 0.5746\n",
            "Epoch 2/100\n",
            "34/34 [==============================] - 21s 612ms/step - loss: 1.6269 - accuracy: 0.5567 - val_loss: 1.0522 - val_accuracy: 0.8592\n",
            "Epoch 3/100\n",
            "34/34 [==============================] - 21s 615ms/step - loss: 1.1759 - accuracy: 0.7147 - val_loss: 0.6604 - val_accuracy: 0.9324\n",
            "Epoch 4/100\n",
            "34/34 [==============================] - 21s 615ms/step - loss: 0.8331 - accuracy: 0.8113 - val_loss: 0.4459 - val_accuracy: 0.9549\n",
            "Epoch 5/100\n",
            "34/34 [==============================] - 21s 612ms/step - loss: 0.6677 - accuracy: 0.8392 - val_loss: 0.3236 - val_accuracy: 0.9690\n",
            "Epoch 6/100\n",
            "34/34 [==============================] - 21s 611ms/step - loss: 0.5270 - accuracy: 0.8652 - val_loss: 0.2744 - val_accuracy: 0.9690\n",
            "Epoch 7/100\n",
            "34/34 [==============================] - 21s 616ms/step - loss: 0.4522 - accuracy: 0.8820 - val_loss: 0.2430 - val_accuracy: 0.9662\n",
            "Epoch 8/100\n",
            "34/34 [==============================] - 21s 611ms/step - loss: 0.3649 - accuracy: 0.9099 - val_loss: 0.2154 - val_accuracy: 0.9662\n",
            "Epoch 9/100\n",
            "34/34 [==============================] - 21s 614ms/step - loss: 0.3366 - accuracy: 0.9043 - val_loss: 0.1962 - val_accuracy: 0.9634\n",
            "Epoch 10/100\n",
            "34/34 [==============================] - 21s 626ms/step - loss: 0.2937 - accuracy: 0.9145 - val_loss: 0.1715 - val_accuracy: 0.9775\n",
            "Epoch 11/100\n",
            "34/34 [==============================] - 19s 568ms/step - loss: 0.2634 - accuracy: 0.9201 - val_loss: 0.1973 - val_accuracy: 0.9577\n",
            "Epoch 12/100\n",
            "34/34 [==============================] - 19s 571ms/step - loss: 0.2742 - accuracy: 0.9173 - val_loss: 0.1785 - val_accuracy: 0.9634\n",
            "Epoch 13/100\n",
            "34/34 [==============================] - 19s 559ms/step - loss: 0.2192 - accuracy: 0.9349 - val_loss: 0.1886 - val_accuracy: 0.9549\n",
            "Epoch 14/100\n",
            "34/34 [==============================] - 19s 558ms/step - loss: 0.2099 - accuracy: 0.9359 - val_loss: 0.1823 - val_accuracy: 0.9606\n",
            "Epoch 15/100\n",
            "34/34 [==============================] - 21s 617ms/step - loss: 0.1761 - accuracy: 0.9461 - val_loss: 0.1629 - val_accuracy: 0.9634\n",
            "Epoch 16/100\n",
            "34/34 [==============================] - 21s 612ms/step - loss: 0.1736 - accuracy: 0.9414 - val_loss: 0.1577 - val_accuracy: 0.9549\n",
            "Epoch 17/100\n",
            "34/34 [==============================] - 19s 560ms/step - loss: 0.1543 - accuracy: 0.9554 - val_loss: 0.1723 - val_accuracy: 0.9606\n",
            "Epoch 18/100\n",
            "34/34 [==============================] - 19s 563ms/step - loss: 0.1551 - accuracy: 0.9545 - val_loss: 0.1605 - val_accuracy: 0.9521\n",
            "Epoch 19/100\n",
            "34/34 [==============================] - 21s 618ms/step - loss: 0.1465 - accuracy: 0.9572 - val_loss: 0.1490 - val_accuracy: 0.9634\n",
            "Epoch 20/100\n",
            "34/34 [==============================] - 21s 614ms/step - loss: 0.1233 - accuracy: 0.9619 - val_loss: 0.1367 - val_accuracy: 0.9662\n",
            "Epoch 21/100\n",
            "34/34 [==============================] - 19s 564ms/step - loss: 0.1210 - accuracy: 0.9647 - val_loss: 0.1468 - val_accuracy: 0.9606\n",
            "Epoch 22/100\n",
            "34/34 [==============================] - 21s 620ms/step - loss: 0.0919 - accuracy: 0.9749 - val_loss: 0.1287 - val_accuracy: 0.9718\n",
            "Epoch 23/100\n",
            "34/34 [==============================] - 21s 618ms/step - loss: 0.1119 - accuracy: 0.9684 - val_loss: 0.1284 - val_accuracy: 0.9746\n",
            "Epoch 24/100\n",
            "34/34 [==============================] - 19s 565ms/step - loss: 0.0867 - accuracy: 0.9786 - val_loss: 0.1368 - val_accuracy: 0.9662\n",
            "Epoch 25/100\n",
            "34/34 [==============================] - 21s 614ms/step - loss: 0.0943 - accuracy: 0.9730 - val_loss: 0.1231 - val_accuracy: 0.9634\n",
            "Epoch 26/100\n",
            "34/34 [==============================] - 19s 565ms/step - loss: 0.0856 - accuracy: 0.9777 - val_loss: 0.1300 - val_accuracy: 0.9577\n",
            "Epoch 27/100\n",
            "34/34 [==============================] - 19s 569ms/step - loss: 0.0870 - accuracy: 0.9721 - val_loss: 0.1374 - val_accuracy: 0.9549\n",
            "Epoch 28/100\n",
            "34/34 [==============================] - 19s 557ms/step - loss: 0.0679 - accuracy: 0.9833 - val_loss: 0.1332 - val_accuracy: 0.9577\n",
            "Epoch 29/100\n",
            "34/34 [==============================] - 19s 557ms/step - loss: 0.0649 - accuracy: 0.9833 - val_loss: 0.1241 - val_accuracy: 0.9634\n",
            "Epoch 30/100\n",
            "34/34 [==============================] - 21s 613ms/step - loss: 0.0620 - accuracy: 0.9823 - val_loss: 0.1218 - val_accuracy: 0.9662\n",
            "Epoch 31/100\n",
            "34/34 [==============================] - 19s 561ms/step - loss: 0.0778 - accuracy: 0.9768 - val_loss: 0.1220 - val_accuracy: 0.9662\n",
            "Epoch 32/100\n",
            "34/34 [==============================] - 21s 611ms/step - loss: 0.0589 - accuracy: 0.9851 - val_loss: 0.1141 - val_accuracy: 0.9718\n",
            "Epoch 33/100\n",
            "34/34 [==============================] - 21s 611ms/step - loss: 0.0697 - accuracy: 0.9786 - val_loss: 0.1114 - val_accuracy: 0.9746\n",
            "Epoch 34/100\n",
            "34/34 [==============================] - 19s 562ms/step - loss: 0.0492 - accuracy: 0.9870 - val_loss: 0.1230 - val_accuracy: 0.9662\n",
            "Epoch 35/100\n",
            "34/34 [==============================] - 19s 558ms/step - loss: 0.0360 - accuracy: 0.9926 - val_loss: 0.1499 - val_accuracy: 0.9577\n",
            "Epoch 36/100\n",
            "34/34 [==============================] - 19s 556ms/step - loss: 0.0432 - accuracy: 0.9870 - val_loss: 0.1496 - val_accuracy: 0.9549\n",
            "Epoch 37/100\n",
            "34/34 [==============================] - 19s 558ms/step - loss: 0.0461 - accuracy: 0.9842 - val_loss: 0.1330 - val_accuracy: 0.9606\n",
            "Epoch 38/100\n",
            "34/34 [==============================] - 19s 559ms/step - loss: 0.0468 - accuracy: 0.9861 - val_loss: 0.1306 - val_accuracy: 0.9606\n",
            "Epoch 39/100\n",
            "34/34 [==============================] - 19s 558ms/step - loss: 0.0360 - accuracy: 0.9907 - val_loss: 0.1335 - val_accuracy: 0.9606\n",
            "Epoch 40/100\n",
            "34/34 [==============================] - 19s 562ms/step - loss: 0.0363 - accuracy: 0.9916 - val_loss: 0.1402 - val_accuracy: 0.9662\n",
            "Epoch 41/100\n",
            "34/34 [==============================] - 19s 558ms/step - loss: 0.0322 - accuracy: 0.9926 - val_loss: 0.1516 - val_accuracy: 0.9549\n",
            "Epoch 42/100\n",
            "34/34 [==============================] - 19s 560ms/step - loss: 0.0294 - accuracy: 0.9944 - val_loss: 0.1515 - val_accuracy: 0.9606\n",
            "Epoch 43/100\n",
            "34/34 [==============================] - 19s 561ms/step - loss: 0.0404 - accuracy: 0.9898 - val_loss: 0.1311 - val_accuracy: 0.9606\n"
          ],
          "name": "stdout"
        }
      ]
    },
    {
      "cell_type": "markdown",
      "metadata": {
        "id": "tMdfyN1oTnF0",
        "colab_type": "text"
      },
      "source": [
        "# Graph"
      ]
    },
    {
      "cell_type": "markdown",
      "metadata": {
        "id": "6qwb4bVDTorH",
        "colab_type": "text"
      },
      "source": [
        "## Accuracy"
      ]
    },
    {
      "cell_type": "code",
      "metadata": {
        "id": "oGnVgQtjMfL5",
        "colab_type": "code",
        "colab": {
          "base_uri": "https://localhost:8080/",
          "height": 295
        },
        "outputId": "11ec54ee-0e79-43ee-97ae-729ea1168624"
      },
      "source": [
        "plt.plot(history.history['accuracy'])\n",
        "plt.plot(history.history['val_accuracy'])\n",
        "plt.ylabel('accuracy')\n",
        "plt.xlabel('epoch')\n",
        "plt.legend(['train', 'val'], loc='upper left')\n",
        "plt.title('accuracy')\n",
        "plt.show()"
      ],
      "execution_count": 16,
      "outputs": [
        {
          "output_type": "display_data",
          "data": {
            "image/png": "[encoded data removed]",
            "text/plain": [
              "<Figure size 432x288 with 1 Axes>"
            ]
          },
          "metadata": {
            "tags": [],
            "needs_background": "light"
          }
        }
      ]
    },
    {
      "cell_type": "markdown",
      "metadata": {
        "id": "SMcHnqMDTp4J",
        "colab_type": "text"
      },
      "source": [
        "# Loss"
      ]
    },
    {
      "cell_type": "code",
      "metadata": {
        "id": "DM8W5RJvMhcc",
        "colab_type": "code",
        "colab": {
          "base_uri": "https://localhost:8080/",
          "height": 295
        },
        "outputId": "5b9cd126-db8a-48f4-f0cb-2647d791817b"
      },
      "source": [
        "plt.plot(history.history['loss'])\n",
        "plt.plot(history.history['val_loss'])\n",
        "plt.ylabel('loss')\n",
        "plt.xlabel('epoch')\n",
        "plt.legend(['train', 'val'], loc='upper left')\n",
        "plt.title('loss')\n",
        "plt.show()"
      ],
      "execution_count": 17,
      "outputs": [
        {
          "output_type": "display_data",
          "data": {
            "image/png": "[encoded data removed]",
            "text/plain": [
              "<Figure size 432x288 with 1 Axes>"
            ]
          },
          "metadata": {
            "tags": [],
            "needs_background": "light"
          }
        }
      ]
    },
    {
      "cell_type": "markdown",
      "metadata": {
        "id": "Mx06xqYITYom",
        "colab_type": "text"
      },
      "source": [
        "# Evaluate"
      ]
    },
    {
      "cell_type": "code",
      "metadata": {
        "id": "wTaBO4idQ4UJ",
        "colab_type": "code",
        "colab": {}
      },
      "source": [
        "test_model = tf.keras.models.load_model('/content/standford_sac_dog_model.h5')"
      ],
      "execution_count": 18,
      "outputs": []
    },
    {
      "cell_type": "code",
      "metadata": {
        "id": "xJaKH96ORXEz",
        "colab_type": "code",
        "colab": {
          "base_uri": "https://localhost:8080/",
          "height": 35
        },
        "outputId": "34f9d392-92f6-46eb-9171-c51f3e8ee2f2"
      },
      "source": [
        "test_labels = test_datagen.classes\n",
        "predictions = test_model.predict(test_datagen, steps=test_datagen.samples, verbose=1)"
      ],
      "execution_count": 19,
      "outputs": [
        {
          "output_type": "stream",
          "text": [
            "366/366 [==============================] - 7s 19ms/step\n"
          ],
          "name": "stdout"
        }
      ]
    },
    {
      "cell_type": "markdown",
      "metadata": {
        "id": "ZUvuHixNTso2",
        "colab_type": "text"
      },
      "source": [
        "# Confusion Matrix"
      ]
    },
    {
      "cell_type": "code",
      "metadata": {
        "id": "bMihx4QyRGUp",
        "colab_type": "code",
        "colab": {}
      },
      "source": [
        "cm = confusion_matrix(test_labels, predictions.argmax(axis=1))\n",
        "\n",
        "cm_plot_labels = ['beagle', 'chihuahua', 'french_bulldog', 'golden_retriever', 'pomeranian', 'pug', 'rottweiler', 'shih-tzu', 'siberian_husky', 'yorkshire_terrier']"
      ],
      "execution_count": 20,
      "outputs": []
    },
    {
      "cell_type": "code",
      "metadata": {
        "id": "gj265qgMSIbb",
        "colab_type": "code",
        "colab": {
          "base_uri": "https://localhost:8080/",
          "height": 495
        },
        "outputId": "62f4a3f9-2613-4ac8-dbd0-23a1e650c53a"
      },
      "source": [
        "plot_confusion_matrix(cm, cm_plot_labels)"
      ],
      "execution_count": 21,
      "outputs": [
        {
          "output_type": "stream",
          "text": [
            "Confusion matrix, without normalization\n",
            "[[38  0  0  0  0  0  0  0  1  0]\n",
            " [ 0 29  1  0  0  1  0  0  0  0]\n",
            " [ 0  0 33  0  0  0  0  0  0  0]\n",
            " [ 0  0  0 29  0  0  0  0  1  0]\n",
            " [ 1  0  0  0 43  0  0  0  0  1]\n",
            " [ 0  0  0  0  0 40  0  0  0  0]\n",
            " [ 0  0  0  0  0  0 31  0  0  0]\n",
            " [ 0  0  0  0  0  0  0 43  0  1]\n",
            " [ 0  0  0  1  0  2  0  0 36  0]\n",
            " [ 0  0  0  0  0  0  0  0  0 34]]\n"
          ],
          "name": "stdout"
        },
        {
          "output_type": "display_data",
          "data": {
            "image/png": "[encoded data removed]",
            "text/plain": [
              "<Figure size 432x288 with 2 Axes>"
            ]
          },
          "metadata": {
            "tags": [],
            "needs_background": "light"
          }
        }
      ]
    },
    {
      "cell_type": "code",
      "metadata": {
        "id": "rTZJBSVRSLNu",
        "colab_type": "code",
        "colab": {
          "base_uri": "https://localhost:8080/",
          "height": 675
        },
        "outputId": "517676fb-0f0f-4c1a-812f-c79ec2d67641"
      },
      "source": [
        "plot_confusion_matrix(cm, cm_plot_labels, True)"
      ],
      "execution_count": 22,
      "outputs": [
        {
          "output_type": "stream",
          "text": [
            "Normalized confusion matrix\n",
            "[[0.97435897 0.         0.         0.         0.         0.\n",
            "  0.         0.         0.02564103 0.        ]\n",
            " [0.         0.93548387 0.03225806 0.         0.         0.03225806\n",
            "  0.         0.         0.         0.        ]\n",
            " [0.         0.         1.         0.         0.         0.\n",
            "  0.         0.         0.         0.        ]\n",
            " [0.         0.         0.         0.96666667 0.         0.\n",
            "  0.         0.         0.03333333 0.        ]\n",
            " [0.02222222 0.         0.         0.         0.95555556 0.\n",
            "  0.         0.         0.         0.02222222]\n",
            " [0.         0.         0.         0.         0.         1.\n",
            "  0.         0.         0.         0.        ]\n",
            " [0.         0.         0.         0.         0.         0.\n",
            "  1.         0.         0.         0.        ]\n",
            " [0.         0.         0.         0.         0.         0.\n",
            "  0.         0.97727273 0.         0.02272727]\n",
            " [0.         0.         0.         0.02564103 0.         0.05128205\n",
            "  0.         0.         0.92307692 0.        ]\n",
            " [0.         0.         0.         0.         0.         0.\n",
            "  0.         0.         0.         1.        ]]\n"
          ],
          "name": "stdout"
        },
        {
          "output_type": "display_data",
          "data": {
            "image/png": "[encoded data removed]",
            "text/plain": [
              "<Figure size 432x288 with 2 Axes>"
            ]
          },
          "metadata": {
            "tags": [],
            "needs_background": "light"
          }
        }
      ]
    },
    {
      "cell_type": "code",
      "metadata": {
        "id": "XxbSCrPORQpD",
        "colab_type": "code",
        "colab": {
          "base_uri": "https://localhost:8080/",
          "height": 539
        },
        "outputId": "fcbc5fc2-cd56-40dc-fbfa-01914ed5e616"
      },
      "source": [
        "y_pred = np.argmax(predictions, axis=1)\n",
        "print('Confusion Matrix')\n",
        "print(confusion_matrix(test_labels, y_pred))\n",
        "print('Classification Report')\n",
        "print(classification_report(test_labels, y_pred, target_names=cm_plot_labels))"
      ],
      "execution_count": 23,
      "outputs": [
        {
          "output_type": "stream",
          "text": [
            "Confusion Matrix\n",
            "[[38  0  0  0  0  0  0  0  1  0]\n",
            " [ 0 29  1  0  0  1  0  0  0  0]\n",
            " [ 0  0 33  0  0  0  0  0  0  0]\n",
            " [ 0  0  0 29  0  0  0  0  1  0]\n",
            " [ 1  0  0  0 43  0  0  0  0  1]\n",
            " [ 0  0  0  0  0 40  0  0  0  0]\n",
            " [ 0  0  0  0  0  0 31  0  0  0]\n",
            " [ 0  0  0  0  0  0  0 43  0  1]\n",
            " [ 0  0  0  1  0  2  0  0 36  0]\n",
            " [ 0  0  0  0  0  0  0  0  0 34]]\n",
            "Classification Report\n",
            "                   precision    recall  f1-score   support\n",
            "\n",
            "           beagle       0.97      0.97      0.97        39\n",
            "        chihuahua       1.00      0.94      0.97        31\n",
            "   french_bulldog       0.97      1.00      0.99        33\n",
            " golden_retriever       0.97      0.97      0.97        30\n",
            "       pomeranian       1.00      0.96      0.98        45\n",
            "              pug       0.93      1.00      0.96        40\n",
            "       rottweiler       1.00      1.00      1.00        31\n",
            "         shih-tzu       1.00      0.98      0.99        44\n",
            "   siberian_husky       0.95      0.92      0.94        39\n",
            "yorkshire_terrier       0.94      1.00      0.97        34\n",
            "\n",
            "         accuracy                           0.97       366\n",
            "        macro avg       0.97      0.97      0.97       366\n",
            "     weighted avg       0.97      0.97      0.97       366\n",
            "\n"
          ],
          "name": "stdout"
        }
      ]
    }
  ]
}